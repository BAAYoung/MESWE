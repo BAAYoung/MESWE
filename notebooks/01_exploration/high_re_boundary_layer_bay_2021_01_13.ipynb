{
 "metadata": {
  "language_info": {
   "codemirror_mode": {
    "name": "ipython",
    "version": 3
   },
   "file_extension": ".py",
   "mimetype": "text/x-python",
   "name": "python",
   "nbconvert_exporter": "python",
   "pygments_lexer": "ipython3",
   "version": "3.8.5-final"
  },
  "orig_nbformat": 2,
  "kernelspec": {
   "name": "python3",
   "display_name": "Python 3",
   "language": "python"
  }
 },
 "nbformat": 4,
 "nbformat_minor": 2,
 "cells": [
  {
   "cell_type": "code",
   "execution_count": 2,
   "metadata": {},
   "outputs": [],
   "source": [
    "import numpy as np \n",
    "from sympy import *"
   ]
  },
  {
   "cell_type": "code",
   "execution_count": 6,
   "metadata": {},
   "outputs": [],
   "source": [
    "#setting up variables and lagrange multipliers\n",
    "u, x, u_s, lamda_0 = symbols('u x u_s lamda_0')\n",
    "\n",
    "h = Function('h')(x)\n",
    "lamda_1 = Function('lamda_1')(x)\n",
    "lamda_2 = Function('lamda_1')(x)\n",
    "lamda_3 = Function('lamda_1')(x)"
   ]
  },
  {
   "cell_type": "code",
   "execution_count": 8,
   "metadata": {},
   "outputs": [
    {
     "output_type": "stream",
     "name": "stdout",
     "text": [
      "Distribution is given by\n       3      d            2      d                       \n λ₀ + u ⋅h(x)⋅──(λ₁(x)) + u ⋅h(x)⋅──(λ₁(x)) - u⋅h(x)⋅λ₁(x)\n              dx                  dx                      \nℯ                                                         \n"
     ]
    }
   ],
   "source": [
    "#distribution for the high Reynolds number, high Fr case\n",
    "f = exp(  lamda_0 - lamda_1*h*u + h*u*u*lamda_2.diff(x) + u**3*h*lamda_3.diff(x)     )\n",
    "print('Distribution is given by')\n",
    "pprint(f)"
   ]
  },
  {
   "cell_type": "code",
   "execution_count": 10,
   "metadata": {},
   "outputs": [
    {
     "output_type": "stream",
     "name": "stdout",
     "text": [
      "    uₛ                                                        \n    ⌠                                                         \n    ⎮                   2      d           3      d           \n    ⎮                  u ⋅h(x)⋅──(λ₁(x))  u ⋅h(x)⋅──(λ₁(x))   \n λ₀ ⎮   -u⋅h(x)⋅λ₁(x)          dx                 dx          \nℯ  ⋅⎮  ℯ             ⋅ℯ                 ⋅ℯ                  du\n    ⌡                                                         \n    0                                                         \n"
     ]
    }
   ],
   "source": [
    "#Probability axiom\n",
    "Const_0 = integrate(f,(u,0,u_s))\n",
    "pprint(Const_0)"
   ]
  },
  {
   "cell_type": "code",
   "execution_count": null,
   "metadata": {},
   "outputs": [],
   "source": [
    "Const_2 = integrate(f*u,(u,0,u_s))\n",
    "pprint(Const_2)"
   ]
  },
  {
   "cell_type": "code",
   "execution_count": null,
   "metadata": {},
   "outputs": [],
   "source": []
  }
 ]
}