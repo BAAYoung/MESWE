{
 "metadata": {
  "language_info": {
   "codemirror_mode": {
    "name": "ipython",
    "version": 3
   },
   "file_extension": ".py",
   "mimetype": "text/x-python",
   "name": "python",
   "nbconvert_exporter": "python",
   "pygments_lexer": "ipython3",
   "version": 3
  },
  "orig_nbformat": 2
 },
 "nbformat": 4,
 "nbformat_minor": 2,
 "cells": [
  {
   "cell_type": "code",
   "execution_count": null,
   "metadata": {},
   "outputs": [],
   "source": [
    "import numpy as np \n",
    "import matplotlib.pyplot as plt \n"
   ]
  },
  {
   "cell_type": "code",
   "execution_count": null,
   "metadata": {},
   "outputs": [],
   "source": [
    "#monte-carlo simulation params\n",
    "n_trials = 10000\n",
    "lam0min = -1\n",
    "lam0max = 1\n",
    "lam1min = -1\n",
    "lam1max = 1\n",
    "\n",
    "du = 0.01\n",
    "uu = np.arange(0,5,du)\n",
    "\n",
    "#simulations:\n",
    "for i in range(0,n_trials):\n",
    "    #generating randomized parameters:\n",
    "    lam0 = np.random.rand(1)*(lam0max-lam0min) + lam0min\n",
    "    lam1 = np.random.rand(1)*(lam1max-lam1min) + lam1min\n",
    "    zz = \n",
    "\n",
    "\n",
    "\n",
    "    \n",
    "\n"
   ]
  }
 ]
}