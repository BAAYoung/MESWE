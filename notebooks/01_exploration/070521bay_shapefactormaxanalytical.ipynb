{
 "metadata": {
  "orig_nbformat": 2,
  "kernelspec": {
   "name": "python3",
   "display_name": "Python 3",
   "language": "python"
  }
 },
 "nbformat": 4,
 "nbformat_minor": 2,
 "cells": [
  {
   "cell_type": "code",
   "execution_count": 8,
   "metadata": {},
   "outputs": [],
   "source": [
    "from sympy import * "
   ]
  },
  {
   "cell_type": "code",
   "execution_count": 9,
   "metadata": {},
   "outputs": [],
   "source": [
    "lamda_0, lamda_1, lamda_2, v, z, u, u_s, c, c_0 = symbols('lamda_0 lamda_1 lamda_2 v z u u_s c c_0')\n",
    "\n",
    "\n",
    "f = lamda_2**(1/2)*(lamda_0 + lamda_1*v + v*v)**(-1/2)\n",
    "vel_prof = Eq(lamda_2**(1/2)*log(2*sqrt(lamda_0 + u*(lamda_1 + u)) + lamda_1 +2) +c_0,z)\n",
    "surface_vel = vel_prof.subs(z,1).subs(u,u_s)\n",
    "u_s = solve(surface_vel,u_s)\n",
    "\n",
    "\n"
   ]
  },
  {
   "cell_type": "code",
   "execution_count": 10,
   "metadata": {},
   "outputs": [
    {
     "output_type": "stream",
     "name": "stdout",
     "text": [
      "\\left[ - 0.5 \\lambda_{1} - 1.0 \\sqrt{- \\lambda_{0} + 0.5 \\lambda_{1}^{2} + \\lambda_{1} - 0.5 \\lambda_{1} e^{- \\frac{c_{0} - 1.0}{\\sqrt{\\lambda_{2}}}} + 1 + 0.25 e^{- \\frac{2.0 \\left(c_{0} - 1.0\\right)}{\\sqrt{\\lambda_{2}}}} - e^{- \\frac{c_{0} - 1.0}{\\sqrt{\\lambda_{2}}}}}, \\  - 0.5 \\lambda_{1} + 1.0 \\sqrt{- \\lambda_{0} + 0.5 \\lambda_{1}^{2} + \\lambda_{1} - 0.5 \\lambda_{1} e^{- \\frac{c_{0} - 1.0}{\\sqrt{\\lambda_{2}}}} + 1 + 0.25 e^{- \\frac{2.0 \\left(c_{0} - 1.0\\right)}{\\sqrt{\\lambda_{2}}}} - e^{- \\frac{c_{0} - 1.0}{\\sqrt{\\lambda_{2}}}}}\\right]\n"
     ]
    }
   ],
   "source": [
    "print(latex(u_s))"
   ]
  },
  {
   "cell_type": "code",
   "execution_count": 11,
   "metadata": {},
   "outputs": [],
   "source": [
    "#calculating basal boundary\n",
    "\n",
    "basal_vel = vel_prof.subs(z,0).subs(u,0)\n",
    "c_0new = solve(basal_vel,c_0)"
   ]
  },
  {
   "cell_type": "code",
   "execution_count": 17,
   "metadata": {},
   "outputs": [
    {
     "output_type": "stream",
     "name": "stdout",
     "text": [
      "\\left[ - \\sqrt{\\lambda_{2}} \\log{\\left(2.0 \\sqrt{\\lambda_{0}} + \\lambda_{1} + 2.0 \\right)}\\right]\n"
     ]
    }
   ],
   "source": [
    "print(latex(c_0new))"
   ]
  },
  {
   "cell_type": "code",
   "execution_count": 16,
   "metadata": {},
   "outputs": [
    {
     "output_type": "stream",
     "name": "stdout",
     "text": [
      "       0.5    ⎛         _________________    ⎞    \nc₀ + λ₂   ⋅log⎝λ₁ + 2⋅╲╱ λ₀ + u⋅(λ₁ + u)  + 2⎠ = z\n"
     ]
    }
   ],
   "source": [
    "vel_prof_new = vel_prof.subs(c_0,c_0new)\n",
    "pprint(vel_prof_new)"
   ]
  },
  {
   "cell_type": "code",
   "execution_count": 14,
   "metadata": {},
   "outputs": [
    {
     "output_type": "stream",
     "name": "stdout",
     "text": [
      "c_{0} + \\lambda_{2}^{0.5} \\log{\\left(\\lambda_{1} + 2 \\sqrt{\\lambda_{0} + u \\left(\\lambda_{1} + u\\right)} + 2 \\right)} = z\n"
     ]
    }
   ],
   "source": [
    "print(latex(vel_prof))"
   ]
  },
  {
   "cell_type": "code",
   "execution_count": null,
   "metadata": {},
   "outputs": [],
   "source": []
  }
 ]
}