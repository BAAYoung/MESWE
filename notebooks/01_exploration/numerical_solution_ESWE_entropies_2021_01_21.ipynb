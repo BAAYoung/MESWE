{
 "metadata": {
  "language_info": {
   "codemirror_mode": {
    "name": "ipython",
    "version": 3
   },
   "file_extension": ".py",
   "mimetype": "text/x-python",
   "name": "python",
   "nbconvert_exporter": "python",
   "pygments_lexer": "ipython3",
   "version": "3.8.5-final"
  },
  "orig_nbformat": 2,
  "kernelspec": {
   "name": "python3",
   "display_name": "Python 3",
   "language": "python"
  }
 },
 "nbformat": 4,
 "nbformat_minor": 2,
 "cells": [
  {
   "source": [
    "This notebook solves the Extended Shallow Water Equations using the Shannon-Gibbs maximum Entropy velocity profile"
   ],
   "cell_type": "markdown",
   "metadata": {}
  },
  {
   "cell_type": "code",
   "execution_count": 11,
   "metadata": {},
   "outputs": [
    {
     "output_type": "display_data",
     "data": {
      "text/plain": "<Figure size 720x360 with 0 Axes>"
     },
     "metadata": {}
    }
   ],
   "source": [
    "import numpy as np\n",
    "import matplotlib.pyplot as plt\n",
    "from scipy import integrate\n",
    "from scipy import interpolate\n",
    "import matplotlib\n",
    "matplotlib.rcParams['mathtext.fontset'] = 'stix'\n",
    "matplotlib.rcParams['font.family'] = 'STIXGeneral'\n",
    "matplotlib.rcParams['font.size'] = 12\n",
    "plt.rc('axes', labelsize=20) \n",
    "plt.set_cmap('coolwarm')"
   ]
  },
  {
   "cell_type": "code",
   "execution_count": 12,
   "metadata": {},
   "outputs": [],
   "source": [
    "def diff_term():\n",
    "    u_s = 1\n",
    "    du = 0.001\n",
    "    uu = np.arange(0,u_s,du) #velocity space\n",
    "\n",
    "    #parameters for the parameter sweep of our velocity profile\n",
    "    d_lam = 1\n",
    "    lam_lim_lower = 20\n",
    "    lam_lim_upper = 20\n",
    "    lam_1, lam_2 = np.meshgrid(np.arange(-lam_lim_lower,lam_lim_upper,d_lam),np.arange(-lam_lim_lower,lam_lim_upper,d_lam))\n",
    "\n",
    "    #arrays to be populated\n",
    "    u_bar = np.ones(lam_1.shape)\n",
    "    chi2 = np.ones(lam_1.shape)\n",
    "    ediffEnt_sweep = np.ones(lam_1.shape)\n",
    "    tauzEnt_sweep = np.ones(lam_1.shape)\n",
    "\n",
    "    for i in range(0,lam_1.shape[0]):\n",
    "        for j in range(0,lam_2.shape[1]):\n",
    "            lam_1i = lam_1[i,j]\n",
    "            lam_2j = lam_2[i,j]\n",
    "            f = np.exp(-uu**2*lam_1i + uu**3*lam_2j) #distribution function\n",
    "            f /= np.trapz(f)*du #normalizing\n",
    "\n",
    "            #finding mean velocity:          \n",
    "            u_bar[i,j] = np.trapz(f*uu)*du\n",
    "\n",
    "            #shape_factor\n",
    "            chi2[i,j] = np.trapz(f*uu*uu)*du/u_bar[i,j]**2\n",
    "\n",
    "            #energy diffusion:\n",
    "            ediffEnt_sweep[i,j] = np.trapz(1/f)*du\n",
    "\n",
    "            #basal shear\n",
    "            tauzEnt_sweep[i,j] = 1/f[0]\n",
    "\n",
    "    #creating interpolating functions for energy diffusion and basal shear\n",
    "    ediffEnt = interpolate.LinearNDInterpolator(list(zip(u_bar.flatten(),chi2.flatten())),ediffEnt_sweep.flatten(),fill_value = 0)\n",
    "    tauzEnt = interpolate.LinearNDInterpolator(list(zip(u_bar.flatten(),chi2.flatten())),tauzEnt_sweep.flatten(),fill_value = 0)\n",
    "\n",
    "\n",
    "    return tauzEnt, ediffEnt"
   ]
  },
  {
   "cell_type": "code",
   "execution_count": 13,
   "metadata": {},
   "outputs": [
    {
     "output_type": "stream",
     "name": "stdout",
     "text": [
      "Froude\n25.11385582255083\nReynolds\n99.7063\n"
     ]
    }
   ],
   "source": [
    "Q = 1 #mass flow rate\n",
    "g_x = 0.25 #horizontal component of gravity\n",
    "g_z = 0.25#vertical component of gravity\n",
    "U = 1.843\n",
    "H = 0.541\n",
    "\n",
    "#non dimensionalising g:\n",
    "Fr = U/np.sqrt(g_z*H)\n",
    "print('Froude')\n",
    "print(Fr**2)\n",
    "g_x *= H/U**2 \n",
    "g_z *= H/U**2 \n",
    "\"\"\" g_x = g_x/Fr**2\n",
    "g_z = g_z/Fr**2 \"\"\"\n",
    "\n",
    "nu = 1e-2 #kinematic viscosity\n",
    "\n",
    "Re = U*H/nu\n",
    "print('Reynolds')\n",
    "print(Re)\n",
    "\n",
    "Re1 = 1/Re\n",
    "\n",
    "dx = (1/100)/H #grid scale\n",
    "L = 15 #domain length\n",
    "\n",
    "\n",
    "p = 2.5 #power law for chi2/chi3\n",
    "chi0 = 1.00\n",
    "xx = np.arange(0,L,dx) - dx #grid\n",
    "xxd = np.arange(0,2000*dx,dx)-10/H\n",
    "xxOF = 0.8*(np.arange(0,20,1/80)-10)/H\n",
    "\n",
    "#initializing vector of primatives:\n",
    "W = np.zeros((3,xx.shape[0]))\n",
    "\n",
    "\n",
    "#generating non-sonservative terms interpolation functions\n",
    "Enttauzz, Entediff = diff_term()\n",
    "\n",
    "\n",
    "#number of grid points away from the discontinuity to start the simulation:\n",
    "N_start = 800 #+ 10 \n",
    "#the reason we may wish to change this is because at the discontinuity, OpenFOAM does\n",
    "#not perfectly conserve mass, there is instead a ~0.5% error, which can be eliminated by\n",
    "#offsetting the start of the ESWE simulation by 10 grid points or so.\n",
    "#The ESWE solution still gives reasonable results when N_start = 0.\n",
    "\n",
    "discont = 0 #number of grid points until the discontinuity\n",
    "\n",
    "#using initial conditions from OpenFOAM simulation\n",
    "W[0,:] = 1\n",
    "W[1,:] = 0.99\n",
    "W[2,:] = 1.001\n",
    "#W[0,1] = EnthOF[discont + N_start ]\n",
    "\n",
    "#vector of non-conservative terms:\n",
    "Tau = np.zeros((3,1))\n",
    "\n",
    "#solving\n",
    "for i in range(2,xx.shape[0]):\n",
    "    #populating vector of non-conservative terms\n",
    "    Tau[0,0] = 0\n",
    "    \n",
    "    #using interpolation from the maximum entropy velocity profile to find basal shear stress and energy diffusion\n",
    "\n",
    "\n",
    "    #Tau[1,0] = 0 + g_x*W[0,i-1] - 1*Re1*(W[1,i-1]/W[0,i-1])*np.interp(W[2,i-1],Entchi2,Enttauzz) \n",
    "    #Tau[2,0] = 0 + 2*g_x*W[1,i-1]*W[0,i-1] - 2*Re1*(W[1,i-1]*W[1,i-1]/W[0,i-1])*np.interp(W[2,i-1],Entchi2,Entediff)\n",
    "\n",
    "    Tau[1,0] = 0 + g_x*W[0,i-1] - 1*Re1*(W[1,i-1]/W[0,i-1])*Enttauzz(W[1,i-1]/W[0,i-1],W[2,i-1])\n",
    "    Tau[2,0] = 0 + 2*g_x*W[1,i-1]*W[0,i-1] - 2*Re1*(W[1,i-1]*W[1,i-1]/W[0,i-1])*Entediff(W[1,i-1]/W[0,i-1],W[2,i-1])\n",
    "    #print(Tau)\n",
    "    #plt.pause(1)\n",
    "\n",
    "    #building Flux matrix such that:\n",
    "    #A(W)*dW/dx = Tau\n",
    "    h = W[0,i-1] + 0\n",
    "    u = W[1,i-1] + 0\n",
    "    chi_2 = W[2,i-1]  + 0\n",
    "\n",
    "\n",
    "    A = np.matrix([[u, chi_2*u**2 + 1.0*g_z*h, chi_2**p*u**3 + 4*g_z*h*u], [h, 2*chi_2*h*u, 3*chi_2**p*h*u**2 + 2*g_z*h**2], [0, h*u**2, chi_2**p*h*p*u**3/chi_2]]).transpose()\n",
    "    B = np.zeros((3,3))\n",
    "    B[1,0] = 0.5*Re1\n",
    "    B[2,0] = 0.5*Re1\n",
    "    B[2,1] = -0.5*chi_2*Re1\n",
    "    B *= 0\n",
    "    A /= dx\n",
    "    B /= dx**2\n",
    "    \n",
    "    #solving explicit Euler\n",
    "    RHS = Tau + np.matmul(B,W[:,i-2:i-1] - 2*W[:,i-1:i]) + np.matmul(A,W[:,i-1:i])\n",
    "    W[:,i:i+1] = np.linalg.solve(A - B, RHS)"
   ]
  },
  {
   "cell_type": "code",
   "execution_count": 14,
   "metadata": {},
   "outputs": [
    {
     "output_type": "execute_result",
     "data": {
      "text/plain": [
       "Text(0, 0.5, '$\\\\chi_2$')"
      ]
     },
     "metadata": {},
     "execution_count": 14
    },
    {
     "output_type": "display_data",
     "data": {
      "text/plain": "<Figure size 720x360 with 1 Axes>",
      "image/svg+xml": "<?xml version=\"1.0\" encoding=\"utf-8\" standalone=\"no\"?>\n<!DOCTYPE svg PUBLIC \"-//W3C//DTD SVG 1.1//EN\"\n  \"http://www.w3.org/Graphics/SVG/1.1/DTD/svg11.dtd\">\n<!-- Created with matplotlib (https://matplotlib.org/) -->\n<svg height=\"326pt\" version=\"1.1\" viewBox=\"0 0 628.4 326\" width=\"628.4pt\" xmlns=\"http://www.w3.org/2000/svg\" xmlns:xlink=\"http://www.w3.org/1999/xlink\">\n <metadata>\n  <rdf:RDF xmlns:cc=\"http://creativecommons.org/ns#\" xmlns:dc=\"http://purl.org/dc/elements/1.1/\" xmlns:rdf=\"http://www.w3.org/1999/02/22-rdf-syntax-ns#\">\n   <cc:Work>\n    <dc:type rdf:resource=\"http://purl.org/dc/dcmitype/StillImage\"/>\n    <dc:date>2021-02-01T14:51:57.050389</dc:date>\n    <dc:format>image/svg+xml</dc:format>\n    <dc:creator>\n     <cc:Agent>\n      <dc:title>Matplotlib v3.3.3, https://matplotlib.org/</dc:title>\n     </cc:Agent>\n    </dc:creator>\n   </cc:Work>\n  </rdf:RDF>\n </metadata>\n <defs>\n  <style type=\"text/css\">*{stroke-linecap:butt;stroke-linejoin:round;}</style>\n </defs>\n <g id=\"figure_1\">\n  <g id=\"patch_1\">\n   <path d=\"M 0 326 \nL 628.4 326 \nL 628.4 0 \nL 0 0 \nz\n\" style=\"fill:none;\"/>\n  </g>\n  <g id=\"axes_1\">\n   <g id=\"patch_2\">\n    <path d=\"M 63.2 279 \nL 621.2 279 \nL 621.2 7.2 \nL 63.2 7.2 \nz\n\" style=\"fill:#ffffff;\"/>\n   </g>\n   <g id=\"matplotlib.axis_1\">\n    <g id=\"xtick_1\">\n     <g id=\"line2d_1\">\n      <defs>\n       <path d=\"M 0 0 \nL 0 3.5 \n\" id=\"m9b06f13371\" style=\"stroke:#000000;stroke-width:0.8;\"/>\n      </defs>\n      <g>\n       <use style=\"stroke:#000000;stroke-width:0.8;\" x=\"93.687603\" xlink:href=\"#m9b06f13371\" y=\"279\"/>\n      </g>\n     </g>\n     <g id=\"text_1\">\n      <!-- 0.00 -->\n      <g transform=\"translate(83.187603 294.195625)scale(0.12 -0.12)\">\n       <defs>\n        <path d=\"M 47.59375 33 \nQ 47.59375 26.296875 46.296875 20.34375 \nQ 45 14.40625 42.453125 9.40625 \nQ 39.90625 4.40625 35.40625 1.5 \nQ 30.90625 -1.40625 25 -1.40625 \nQ 18.90625 -1.40625 14.296875 1.6875 \nQ 9.703125 4.796875 7.203125 10 \nQ 4.703125 15.203125 3.546875 21.09375 \nQ 2.40625 27 2.40625 33.59375 \nQ 2.40625 42.90625 4.703125 50.34375 \nQ 7 57.796875 12.34375 62.6875 \nQ 17.703125 67.59375 25.40625 67.59375 \nQ 35.203125 67.59375 41.390625 58 \nQ 47.59375 48.40625 47.59375 33 \nz\nM 38 32.5 \nQ 38 48.296875 34.640625 56.640625 \nQ 31.296875 65 24.796875 65 \nQ 18.59375 65 15.296875 56.59375 \nQ 12 48.203125 12 32.90625 \nQ 12 17.5 15.296875 9.34375 \nQ 18.59375 1.203125 25 1.203125 \nQ 31.296875 1.203125 34.640625 9.34375 \nQ 38 17.5 38 32.5 \nz\n\" id=\"STIXGeneral-Regular-48\"/>\n        <path d=\"M 18.09375 4.296875 \nQ 18.09375 2.09375 16.4375 0.5 \nQ 14.796875 -1.09375 12.5 -1.09375 \nQ 10.203125 -1.09375 8.59375 0.5 \nQ 7 2.09375 7 4.390625 \nQ 7 6.703125 8.640625 8.34375 \nQ 10.296875 10 12.59375 10 \nQ 14.796875 10 16.4375 8.296875 \nQ 18.09375 6.59375 18.09375 4.296875 \nz\n\" id=\"STIXGeneral-Regular-46\"/>\n       </defs>\n       <use xlink:href=\"#STIXGeneral-Regular-48\"/>\n       <use x=\"49.999985\" xlink:href=\"#STIXGeneral-Regular-46\"/>\n       <use x=\"74.999969\" xlink:href=\"#STIXGeneral-Regular-48\"/>\n       <use x=\"124.999954\" xlink:href=\"#STIXGeneral-Regular-48\"/>\n      </g>\n     </g>\n    </g>\n    <g id=\"xtick_2\">\n     <g id=\"line2d_2\">\n      <g>\n       <use style=\"stroke:#000000;stroke-width:0.8;\" x=\"162.989256\" xlink:href=\"#m9b06f13371\" y=\"279\"/>\n      </g>\n     </g>\n     <g id=\"text_2\">\n      <!-- 0.25 -->\n      <g transform=\"translate(152.489256 294.195625)scale(0.12 -0.12)\">\n       <defs>\n        <path d=\"M 47.40625 13.703125 \nL 42 0 \nL 2.90625 0 \nL 2.90625 1.203125 \nL 20.703125 20.09375 \nQ 27.703125 27.40625 30.703125 33.5 \nQ 33.703125 39.59375 33.703125 46.09375 \nQ 33.703125 52.796875 30 56.5 \nQ 26.296875 60.203125 19.796875 60.203125 \nQ 14.40625 60.203125 11.25 57.390625 \nQ 8.09375 54.59375 5.09375 47.203125 \nL 3 47.703125 \nQ 4.703125 57 9.84375 62.296875 \nQ 15 67.59375 23.796875 67.59375 \nQ 32.09375 67.59375 37.1875 62.59375 \nQ 42.296875 57.59375 42.296875 50 \nQ 42.296875 38.703125 29.5 25.203125 \nL 13 7.59375 \nL 36.40625 7.59375 \nQ 39.703125 7.59375 41.640625 8.890625 \nQ 43.59375 10.203125 46 14.296875 \nz\n\" id=\"STIXGeneral-Regular-50\"/>\n        <path d=\"M 43.796875 68.09375 \nL 40.203125 59.59375 \nQ 39.59375 58.296875 37.5 58.296875 \nL 18.09375 58.296875 \nL 14.09375 49.796875 \nQ 25.09375 47.703125 30 45.25 \nQ 34.90625 42.796875 39.09375 37 \nQ 42.59375 32.203125 42.59375 24.296875 \nQ 42.59375 17.09375 40.25 12.1875 \nQ 37.90625 7.296875 32.796875 3.5 \nQ 26 -1.40625 15.796875 -1.40625 \nQ 10.09375 -1.40625 6.59375 0.296875 \nQ 3.09375 2 3.09375 4.796875 \nQ 3.09375 8.59375 7.59375 8.59375 \nQ 11.203125 8.59375 15 5.5 \nQ 18.90625 2.296875 22.09375 2.296875 \nQ 27.296875 2.296875 31.4375 7.5 \nQ 35.59375 12.703125 35.59375 19.203125 \nQ 35.59375 28.796875 28.90625 34.203125 \nQ 20.203125 41.203125 7.59375 41.203125 \nQ 6.40625 41.203125 6.40625 42 \nL 6.5 42.5 \nL 17.40625 66.203125 \nL 38.09375 66.203125 \nQ 39.796875 66.203125 40.75 66.703125 \nQ 41.703125 67.203125 42.90625 68.796875 \nz\n\" id=\"STIXGeneral-Regular-53\"/>\n       </defs>\n       <use xlink:href=\"#STIXGeneral-Regular-48\"/>\n       <use x=\"49.999985\" xlink:href=\"#STIXGeneral-Regular-46\"/>\n       <use x=\"74.999969\" xlink:href=\"#STIXGeneral-Regular-50\"/>\n       <use x=\"124.999954\" xlink:href=\"#STIXGeneral-Regular-53\"/>\n      </g>\n     </g>\n    </g>\n    <g id=\"xtick_3\">\n     <g id=\"line2d_3\">\n      <g>\n       <use style=\"stroke:#000000;stroke-width:0.8;\" x=\"232.290909\" xlink:href=\"#m9b06f13371\" y=\"279\"/>\n      </g>\n     </g>\n     <g id=\"text_3\">\n      <!-- 0.50 -->\n      <g transform=\"translate(221.790909 294.195625)scale(0.12 -0.12)\">\n       <use xlink:href=\"#STIXGeneral-Regular-48\"/>\n       <use x=\"49.999985\" xlink:href=\"#STIXGeneral-Regular-46\"/>\n       <use x=\"74.999969\" xlink:href=\"#STIXGeneral-Regular-53\"/>\n       <use x=\"124.999954\" xlink:href=\"#STIXGeneral-Regular-48\"/>\n      </g>\n     </g>\n    </g>\n    <g id=\"xtick_4\">\n     <g id=\"line2d_4\">\n      <g>\n       <use style=\"stroke:#000000;stroke-width:0.8;\" x=\"301.592562\" xlink:href=\"#m9b06f13371\" y=\"279\"/>\n      </g>\n     </g>\n     <g id=\"text_4\">\n      <!-- 0.75 -->\n      <g transform=\"translate(291.092562 294.195625)scale(0.12 -0.12)\">\n       <defs>\n        <path d=\"M 44.90625 64.59375 \nL 23.703125 -0.796875 \nL 17.203125 -0.796875 \nL 37 58.796875 \nL 15.5 58.796875 \nQ 11.203125 58.796875 9.09375 57.296875 \nQ 7 55.796875 3.796875 50.59375 \nL 2 51.5 \nL 8 66.203125 \nL 44.90625 66.203125 \nz\n\" id=\"STIXGeneral-Regular-55\"/>\n       </defs>\n       <use xlink:href=\"#STIXGeneral-Regular-48\"/>\n       <use x=\"49.999985\" xlink:href=\"#STIXGeneral-Regular-46\"/>\n       <use x=\"74.999969\" xlink:href=\"#STIXGeneral-Regular-55\"/>\n       <use x=\"124.999954\" xlink:href=\"#STIXGeneral-Regular-53\"/>\n      </g>\n     </g>\n    </g>\n    <g id=\"xtick_5\">\n     <g id=\"line2d_5\">\n      <g>\n       <use style=\"stroke:#000000;stroke-width:0.8;\" x=\"370.894215\" xlink:href=\"#m9b06f13371\" y=\"279\"/>\n      </g>\n     </g>\n     <g id=\"text_5\">\n      <!-- 1.00 -->\n      <g transform=\"translate(360.394215 294.195625)scale(0.12 -0.12)\">\n       <defs>\n        <path d=\"M 39.40625 0 \nL 11.796875 0 \nL 11.796875 1.5 \nQ 17.296875 1.796875 19.296875 3.546875 \nQ 21.296875 5.296875 21.296875 9.5 \nL 21.296875 54.40625 \nQ 21.296875 59.296875 18.296875 59.296875 \nQ 16.90625 59.296875 13.796875 58.09375 \nL 11.09375 57.09375 \nL 11.09375 58.5 \nL 29 67.59375 \nL 29.90625 67.296875 \nL 29.90625 7.59375 \nQ 29.90625 4.296875 31.90625 2.890625 \nQ 33.90625 1.5 39.40625 1.5 \nz\n\" id=\"STIXGeneral-Regular-49\"/>\n       </defs>\n       <use xlink:href=\"#STIXGeneral-Regular-49\"/>\n       <use x=\"49.999985\" xlink:href=\"#STIXGeneral-Regular-46\"/>\n       <use x=\"74.999969\" xlink:href=\"#STIXGeneral-Regular-48\"/>\n       <use x=\"124.999954\" xlink:href=\"#STIXGeneral-Regular-48\"/>\n      </g>\n     </g>\n    </g>\n    <g id=\"xtick_6\">\n     <g id=\"line2d_6\">\n      <g>\n       <use style=\"stroke:#000000;stroke-width:0.8;\" x=\"440.195868\" xlink:href=\"#m9b06f13371\" y=\"279\"/>\n      </g>\n     </g>\n     <g id=\"text_6\">\n      <!-- 1.25 -->\n      <g transform=\"translate(429.695868 294.195625)scale(0.12 -0.12)\">\n       <use xlink:href=\"#STIXGeneral-Regular-49\"/>\n       <use x=\"49.999985\" xlink:href=\"#STIXGeneral-Regular-46\"/>\n       <use x=\"74.999969\" xlink:href=\"#STIXGeneral-Regular-50\"/>\n       <use x=\"124.999954\" xlink:href=\"#STIXGeneral-Regular-53\"/>\n      </g>\n     </g>\n    </g>\n    <g id=\"xtick_7\">\n     <g id=\"line2d_7\">\n      <g>\n       <use style=\"stroke:#000000;stroke-width:0.8;\" x=\"509.497521\" xlink:href=\"#m9b06f13371\" y=\"279\"/>\n      </g>\n     </g>\n     <g id=\"text_7\">\n      <!-- 1.50 -->\n      <g transform=\"translate(498.997521 294.195625)scale(0.12 -0.12)\">\n       <use xlink:href=\"#STIXGeneral-Regular-49\"/>\n       <use x=\"49.999985\" xlink:href=\"#STIXGeneral-Regular-46\"/>\n       <use x=\"74.999969\" xlink:href=\"#STIXGeneral-Regular-53\"/>\n       <use x=\"124.999954\" xlink:href=\"#STIXGeneral-Regular-48\"/>\n      </g>\n     </g>\n    </g>\n    <g id=\"xtick_8\">\n     <g id=\"line2d_8\">\n      <g>\n       <use style=\"stroke:#000000;stroke-width:0.8;\" x=\"578.799174\" xlink:href=\"#m9b06f13371\" y=\"279\"/>\n      </g>\n     </g>\n     <g id=\"text_8\">\n      <!-- 1.75 -->\n      <g transform=\"translate(568.299174 294.195625)scale(0.12 -0.12)\">\n       <use xlink:href=\"#STIXGeneral-Regular-49\"/>\n       <use x=\"49.999985\" xlink:href=\"#STIXGeneral-Regular-46\"/>\n       <use x=\"74.999969\" xlink:href=\"#STIXGeneral-Regular-55\"/>\n       <use x=\"124.999954\" xlink:href=\"#STIXGeneral-Regular-53\"/>\n      </g>\n     </g>\n    </g>\n    <g id=\"text_9\">\n     <!-- $x/H$ -->\n     <g transform=\"translate(327.7 314.459375)scale(0.2 -0.2)\">\n      <defs>\n       <path d=\"M 24.296875 35.5 \nL 25.5 29.796875 \nQ 30.796875 37.90625 34.046875 41 \nQ 37.296875 44.09375 40.59375 44.09375 \nQ 42.40625 44.09375 43.546875 43.046875 \nQ 44.703125 42 44.703125 40.390625 \nQ 44.703125 38.796875 43.75 37.796875 \nQ 42.796875 36.796875 41.296875 36.796875 \nQ 40.40625 36.796875 38.90625 37.640625 \nQ 37.40625 38.5 36.09375 38.5 \nQ 33.203125 38.5 26.296875 26.40625 \nQ 26.296875 25.09375 27.09375 21.90625 \nL 30.296875 8.5 \nQ 31.296875 4.40625 33.296875 4.40625 \nQ 34.90625 4.40625 38 8.40625 \nQ 38.296875 8.796875 38.6875 9.34375 \nQ 39.09375 9.90625 39.390625 10.34375 \nQ 39.703125 10.796875 40.09375 11.203125 \nL 41.59375 10.296875 \nQ 37.296875 3.59375 34.796875 1.25 \nQ 32.296875 -1.09375 29.40625 -1.09375 \nQ 27 -1.09375 25.703125 0.40625 \nQ 24.40625 1.90625 23.5 5.703125 \nL 20.59375 17.59375 \nL 11.796875 5.703125 \nQ 8.703125 1.5 6.75 0.203125 \nQ 4.796875 -1.09375 2.296875 -1.09375 \nQ 0 -1.09375 -1.34375 0 \nQ -2.703125 1.09375 -2.703125 3.09375 \nQ -2.703125 4.59375 -1.75 5.640625 \nQ -0.796875 6.703125 0.703125 6.703125 \nQ 1.90625 6.703125 3.90625 5.59375 \nQ 5.40625 4.703125 6.5 4.703125 \nQ 8.203125 4.703125 11.59375 9.59375 \nL 19.796875 21.203125 \nL 17 33.59375 \nQ 16 38 15.140625 39.203125 \nQ 14.296875 40.40625 12.40625 40.40625 \nQ 11.203125 40.40625 8.5 39.703125 \nL 6.703125 39.203125 \nL 6.40625 40.796875 \nL 7.5 41.203125 \nQ 15.5 44.09375 19.203125 44.09375 \nQ 21.09375 44.09375 22.1875 42.296875 \nQ 23.296875 40.5 24.296875 35.5 \nz\n\" id=\"STIXGeneral-Italic-120\"/>\n       <path d=\"M 28.703125 67.59375 \nL 5.90625 -1.40625 \nL -0.90625 -1.40625 \nL 22 67.59375 \nz\n\" id=\"STIXGeneral-Regular-47\"/>\n       <path d=\"M 76.90625 65.296875 \nL 76.90625 63.703125 \nQ 72.5 62.90625 71.09375 61.703125 \nQ 69.703125 60.5 68.5 56.296875 \nL 55.296875 8.203125 \nQ 55 7 55 5.796875 \nQ 55 3.703125 56.5 2.890625 \nQ 58 2.09375 62.90625 1.59375 \nL 62.90625 0 \nL 35.5 0 \nL 35.5 1.59375 \nQ 40.59375 2 42.640625 3.703125 \nQ 44.703125 5.40625 45.703125 9.296875 \nL 52.09375 32.59375 \nL 23.59375 32.59375 \nL 17 8.203125 \nQ 16.703125 7.203125 16.703125 6 \nQ 16.703125 3.796875 17.953125 3 \nQ 19.203125 2.203125 23.703125 1.59375 \nL 23.703125 0 \nL -0.796875 0 \nL -0.796875 1.59375 \nQ 3.296875 2 4.84375 3.59375 \nQ 6.40625 5.203125 7.796875 10.203125 \nL 19.59375 53.203125 \nQ 20.796875 57.796875 20.796875 59.59375 \nQ 20.796875 61.703125 19.34375 62.453125 \nQ 17.90625 63.203125 13.09375 63.703125 \nL 13.09375 65.296875 \nL 40.203125 65.296875 \nL 40.203125 63.703125 \nQ 35.703125 63.40625 33.453125 61.796875 \nQ 31.203125 60.203125 30.203125 56.59375 \nL 24.796875 36.796875 \nL 53.296875 36.796875 \nL 57.90625 53.203125 \nQ 59.296875 58.40625 59.296875 59.5 \nQ 59.296875 61.40625 57.6875 62.40625 \nQ 56.09375 63.40625 52.09375 63.703125 \nL 52.09375 65.296875 \nz\n\" id=\"STIXGeneral-Italic-72\"/>\n      </defs>\n      <use transform=\"translate(0 0.40625)\" xlink:href=\"#STIXGeneral-Italic-120\"/>\n      <use transform=\"translate(44.399994 0.40625)\" xlink:href=\"#STIXGeneral-Regular-47\"/>\n      <use transform=\"translate(72.199982 0.40625)\" xlink:href=\"#STIXGeneral-Italic-72\"/>\n     </g>\n    </g>\n   </g>\n   <g id=\"matplotlib.axis_2\">\n    <g id=\"ytick_1\">\n     <g id=\"line2d_9\">\n      <defs>\n       <path d=\"M 0 0 \nL -3.5 0 \n\" id=\"m2d81860e3b\" style=\"stroke:#000000;stroke-width:0.8;\"/>\n      </defs>\n      <g>\n       <use style=\"stroke:#000000;stroke-width:0.8;\" x=\"63.2\" xlink:href=\"#m2d81860e3b\" y=\"266.645455\"/>\n      </g>\n     </g>\n     <g id=\"text_10\">\n      <!-- 1.000 -->\n      <g transform=\"translate(29.2 270.743267)scale(0.12 -0.12)\">\n       <use xlink:href=\"#STIXGeneral-Regular-49\"/>\n       <use x=\"49.999985\" xlink:href=\"#STIXGeneral-Regular-46\"/>\n       <use x=\"74.999969\" xlink:href=\"#STIXGeneral-Regular-48\"/>\n       <use x=\"124.999954\" xlink:href=\"#STIXGeneral-Regular-48\"/>\n       <use x=\"174.999939\" xlink:href=\"#STIXGeneral-Regular-48\"/>\n      </g>\n     </g>\n    </g>\n    <g id=\"ytick_2\">\n     <g id=\"line2d_10\">\n      <g>\n       <use style=\"stroke:#000000;stroke-width:0.8;\" x=\"63.2\" xlink:href=\"#m2d81860e3b\" y=\"228.963778\"/>\n      </g>\n     </g>\n     <g id=\"text_11\">\n      <!-- 1.025 -->\n      <g transform=\"translate(29.2 233.06159)scale(0.12 -0.12)\">\n       <use xlink:href=\"#STIXGeneral-Regular-49\"/>\n       <use x=\"49.999985\" xlink:href=\"#STIXGeneral-Regular-46\"/>\n       <use x=\"74.999969\" xlink:href=\"#STIXGeneral-Regular-48\"/>\n       <use x=\"124.999954\" xlink:href=\"#STIXGeneral-Regular-50\"/>\n       <use x=\"174.999939\" xlink:href=\"#STIXGeneral-Regular-53\"/>\n      </g>\n     </g>\n    </g>\n    <g id=\"ytick_3\">\n     <g id=\"line2d_11\">\n      <g>\n       <use style=\"stroke:#000000;stroke-width:0.8;\" x=\"63.2\" xlink:href=\"#m2d81860e3b\" y=\"191.282101\"/>\n      </g>\n     </g>\n     <g id=\"text_12\">\n      <!-- 1.050 -->\n      <g transform=\"translate(29.2 195.379913)scale(0.12 -0.12)\">\n       <use xlink:href=\"#STIXGeneral-Regular-49\"/>\n       <use x=\"49.999985\" xlink:href=\"#STIXGeneral-Regular-46\"/>\n       <use x=\"74.999969\" xlink:href=\"#STIXGeneral-Regular-48\"/>\n       <use x=\"124.999954\" xlink:href=\"#STIXGeneral-Regular-53\"/>\n       <use x=\"174.999939\" xlink:href=\"#STIXGeneral-Regular-48\"/>\n      </g>\n     </g>\n    </g>\n    <g id=\"ytick_4\">\n     <g id=\"line2d_12\">\n      <g>\n       <use style=\"stroke:#000000;stroke-width:0.8;\" x=\"63.2\" xlink:href=\"#m2d81860e3b\" y=\"153.600424\"/>\n      </g>\n     </g>\n     <g id=\"text_13\">\n      <!-- 1.075 -->\n      <g transform=\"translate(29.2 157.698236)scale(0.12 -0.12)\">\n       <use xlink:href=\"#STIXGeneral-Regular-49\"/>\n       <use x=\"49.999985\" xlink:href=\"#STIXGeneral-Regular-46\"/>\n       <use x=\"74.999969\" xlink:href=\"#STIXGeneral-Regular-48\"/>\n       <use x=\"124.999954\" xlink:href=\"#STIXGeneral-Regular-55\"/>\n       <use x=\"174.999939\" xlink:href=\"#STIXGeneral-Regular-53\"/>\n      </g>\n     </g>\n    </g>\n    <g id=\"ytick_5\">\n     <g id=\"line2d_13\">\n      <g>\n       <use style=\"stroke:#000000;stroke-width:0.8;\" x=\"63.2\" xlink:href=\"#m2d81860e3b\" y=\"115.918747\"/>\n      </g>\n     </g>\n     <g id=\"text_14\">\n      <!-- 1.100 -->\n      <g transform=\"translate(29.2 120.016559)scale(0.12 -0.12)\">\n       <use xlink:href=\"#STIXGeneral-Regular-49\"/>\n       <use x=\"49.999985\" xlink:href=\"#STIXGeneral-Regular-46\"/>\n       <use x=\"74.999969\" xlink:href=\"#STIXGeneral-Regular-49\"/>\n       <use x=\"124.999954\" xlink:href=\"#STIXGeneral-Regular-48\"/>\n       <use x=\"174.999939\" xlink:href=\"#STIXGeneral-Regular-48\"/>\n      </g>\n     </g>\n    </g>\n    <g id=\"ytick_6\">\n     <g id=\"line2d_14\">\n      <g>\n       <use style=\"stroke:#000000;stroke-width:0.8;\" x=\"63.2\" xlink:href=\"#m2d81860e3b\" y=\"78.23707\"/>\n      </g>\n     </g>\n     <g id=\"text_15\">\n      <!-- 1.125 -->\n      <g transform=\"translate(29.2 82.334882)scale(0.12 -0.12)\">\n       <use xlink:href=\"#STIXGeneral-Regular-49\"/>\n       <use x=\"49.999985\" xlink:href=\"#STIXGeneral-Regular-46\"/>\n       <use x=\"74.999969\" xlink:href=\"#STIXGeneral-Regular-49\"/>\n       <use x=\"124.999954\" xlink:href=\"#STIXGeneral-Regular-50\"/>\n       <use x=\"174.999939\" xlink:href=\"#STIXGeneral-Regular-53\"/>\n      </g>\n     </g>\n    </g>\n    <g id=\"ytick_7\">\n     <g id=\"line2d_15\">\n      <g>\n       <use style=\"stroke:#000000;stroke-width:0.8;\" x=\"63.2\" xlink:href=\"#m2d81860e3b\" y=\"40.555393\"/>\n      </g>\n     </g>\n     <g id=\"text_16\">\n      <!-- 1.150 -->\n      <g transform=\"translate(29.2 44.653205)scale(0.12 -0.12)\">\n       <use xlink:href=\"#STIXGeneral-Regular-49\"/>\n       <use x=\"49.999985\" xlink:href=\"#STIXGeneral-Regular-46\"/>\n       <use x=\"74.999969\" xlink:href=\"#STIXGeneral-Regular-49\"/>\n       <use x=\"124.999954\" xlink:href=\"#STIXGeneral-Regular-53\"/>\n       <use x=\"174.999939\" xlink:href=\"#STIXGeneral-Regular-48\"/>\n      </g>\n     </g>\n    </g>\n    <g id=\"text_17\">\n     <!-- $\\chi_2$ -->\n     <g transform=\"translate(20.859375 151.7)rotate(-90)scale(0.2 -0.2)\">\n      <defs>\n       <path d=\"M 49.796875 42.796875 \nL 21.296875 7.5 \nQ 21.203125 4.90625 21.203125 0.59375 \nQ 21.203125 -8.296875 22.25 -11.34375 \nQ 23.296875 -14.40625 25.703125 -14.40625 \nQ 26.90625 -14.40625 28.5 -12.546875 \nQ 30.09375 -10.703125 31.40625 -7 \nL 33 -7 \nQ 30.296875 -20.703125 23.703125 -20.703125 \nQ 20.5 -20.703125 18.953125 -17.046875 \nQ 17.40625 -13.40625 17.40625 -7.90625 \nQ 17.40625 -0.5 18.203125 4.5 \nL -1.5 -19.90625 \nL -10.796875 -19.90625 \nL 17.90625 14.59375 \nL 17.90625 23.5 \nQ 17.90625 31.09375 16.953125 34.4375 \nQ 16 37.796875 13.40625 37.796875 \nQ 12.09375 37.796875 10.34375 36.046875 \nQ 8.59375 34.296875 7.296875 30.5 \nL 5.703125 30.5 \nQ 6.5 33.5 7.203125 35.5 \nQ 7.90625 37.5 9.046875 39.703125 \nQ 10.203125 41.90625 11.796875 43 \nQ 13.40625 44.09375 15.5 44.09375 \nQ 18.40625 44.09375 19.84375 40.890625 \nQ 21.296875 37.703125 21.296875 29.703125 \nQ 21.296875 29.40625 21.25 28.40625 \nQ 21.203125 27.40625 21.09375 24.546875 \nQ 21 21.703125 20.90625 17.40625 \nL 40.5 42.796875 \nz\n\" id=\"STIXGeneral-Italic-967\"/>\n      </defs>\n      <use transform=\"translate(0 0.90625)\" xlink:href=\"#STIXGeneral-Italic-967\"/>\n      <use transform=\"translate(45.699997 -12.321875)scale(0.7)\" xlink:href=\"#STIXGeneral-Regular-50\"/>\n     </g>\n    </g>\n   </g>\n   <g id=\"line2d_16\">\n    <path clip-path=\"url(#p2e2859b852)\" d=\"M 88.563636 265.138187 \nL 93.687603 265.138187 \nL 98.81157 265.145259 \nL 103.935537 265.152286 \nL 109.059504 265.159268 \nL 114.183471 265.166206 \nL 119.307438 265.1731 \nL 124.431405 265.179951 \nL 129.555372 265.186759 \nL 134.679339 265.193523 \nL 139.803306 265.200246 \nL 144.927273 265.206926 \nL 150.05124 265.213564 \nL 155.175207 265.220161 \nL 160.299174 265.226717 \nL 165.42314 265.233232 \nL 170.547107 265.239707 \nL 175.671074 265.246141 \nL 180.795041 265.252535 \nL 185.919008 265.25889 \nL 191.042975 265.265206 \nL 196.166942 265.271483 \nL 201.290909 265.277721 \nL 206.414876 265.283921 \nL 211.538843 265.290083 \nL 216.66281 265.296207 \nL 221.786777 265.302294 \nL 226.910744 265.308344 \nL 232.034711 265.314357 \nL 237.158678 265.320333 \nL 242.282645 265.326273 \nL 247.406612 265.332177 \nL 252.530579 265.338045 \nL 257.654545 265.343878 \nL 262.778512 265.349675 \nL 267.902479 265.355438 \nL 273.026446 265.361166 \nL 278.150413 265.36686 \nL 283.27438 265.372519 \nL 288.398347 265.378145 \nL 293.522314 265.383737 \nL 298.646281 265.389296 \nL 303.770248 265.394821 \nL 308.894215 265.400314 \nL 314.018182 265.405774 \nL 319.142149 265.411202 \nL 324.266116 265.416598 \nL 329.390083 265.421961 \nL 334.51405 265.427293 \nL 339.638017 265.432594 \nL 344.761983 265.437864 \nL 349.88595 265.443102 \nL 355.009917 265.44831 \nL 360.133884 265.453488 \nL 365.257851 265.458635 \nL 370.381818 265.463752 \nL 375.505785 265.468839 \nL 380.629752 265.473897 \nL 385.753719 265.478926 \nL 390.877686 265.483925 \nL 396.001653 265.488895 \nL 401.12562 265.493837 \nL 406.249587 265.49875 \nL 411.373554 265.503634 \nL 416.497521 265.508491 \nL 421.621488 265.51332 \nL 426.745455 265.518121 \nL 431.869421 265.522894 \nL 436.993388 265.52764 \nL 442.117355 265.53236 \nL 447.241322 265.537052 \nL 452.365289 265.541717 \nL 457.489256 265.546356 \nL 462.613223 265.550969 \nL 467.73719 265.555555 \nL 472.861157 265.560116 \nL 477.985124 265.564651 \nL 483.109091 265.56916 \nL 488.233058 265.573644 \nL 493.357025 265.578102 \nL 498.480992 265.582536 \nL 503.604959 265.586945 \nL 508.728926 265.591329 \nL 513.852893 265.595688 \nL 518.97686 265.600023 \nL 524.100826 265.604334 \nL 529.224793 265.608621 \nL 534.34876 265.612884 \nL 539.472727 265.617124 \nL 544.596694 265.62134 \nL 549.720661 265.625533 \nL 554.844628 265.629702 \nL 559.968595 265.633849 \nL 565.092562 265.637972 \nL 570.216529 265.642073 \nL 575.340496 265.646152 \nL 580.464463 265.650208 \nL 585.58843 265.654242 \nL 590.712397 265.658254 \nL 595.836364 265.662243 \n\" style=\"fill:none;stroke:#000000;stroke-linecap:square;stroke-width:1.5;\"/>\n   </g>\n   <g id=\"line2d_17\">\n    <path clip-path=\"url(#p2e2859b852)\" d=\"M 93.687603 266.645455 \nL 98.81157 241.685503 \nL 103.935537 231.346753 \nL 109.059504 223.413551 \nL 114.183471 216.725552 \nL 119.307438 210.833307 \nL 124.431405 205.50631 \nL 129.555372 200.607631 \nL 134.679339 196.048052 \nL 139.803306 191.765601 \nL 144.927273 187.715159 \nL 150.05124 183.862662 \nL 155.175207 180.181648 \nL 160.299174 176.651071 \nL 165.42314 173.253869 \nL 170.547107 169.97598 \nL 175.671074 166.80565 \nL 180.795041 163.73294 \nL 185.919008 160.749351 \nL 191.042975 157.84755 \nL 196.166942 155.02116 \nL 201.290909 152.264589 \nL 206.414876 149.572907 \nL 211.538843 146.941734 \nL 216.66281 144.367166 \nL 221.786777 141.845699 \nL 226.910744 139.374177 \nL 232.034711 136.949744 \nL 237.158678 134.569808 \nL 242.282645 132.232005 \nL 247.406612 129.934172 \nL 252.530579 127.674329 \nL 257.654545 125.450649 \nL 262.778512 123.261452 \nL 267.902479 121.105181 \nL 273.026446 118.980393 \nL 278.150413 116.885748 \nL 283.27438 114.82 \nL 288.398347 112.781983 \nL 293.522314 110.77061 \nL 298.646281 108.784863 \nL 303.770248 106.823787 \nL 308.894215 104.886484 \nL 314.018182 102.97211 \nL 319.142149 101.07987 \nL 324.266116 99.209013 \nL 329.390083 97.35883 \nL 334.51405 95.528651 \nL 339.638017 93.717841 \nL 344.761983 91.925797 \nL 349.88595 90.151948 \nL 355.009917 88.395751 \nL 360.133884 86.656688 \nL 365.257851 84.934268 \nL 370.381818 83.228022 \nL 375.505785 81.537503 \nL 380.629752 79.862284 \nL 385.753719 78.201957 \nL 390.877686 76.556131 \nL 396.001653 74.924433 \nL 401.12562 73.306505 \nL 406.249587 71.702005 \nL 411.373554 70.110603 \nL 416.497521 68.531985 \nL 421.621488 66.965846 \nL 426.745455 65.411896 \nL 431.869421 63.869854 \nL 436.993388 62.33945 \nL 442.117355 60.820425 \nL 447.241322 59.312529 \nL 452.365289 57.815521 \nL 457.489256 56.329169 \nL 462.613223 54.853247 \nL 467.73719 53.387539 \nL 472.861157 51.931837 \nL 477.985124 50.485938 \nL 483.109091 49.049646 \nL 488.233058 47.622773 \nL 493.357025 46.205136 \nL 498.480992 44.796557 \nL 503.604959 43.396865 \nL 508.728926 42.005895 \nL 513.852893 40.623485 \nL 518.97686 39.249478 \nL 524.100826 37.883724 \nL 529.224793 36.526076 \nL 534.34876 35.176391 \nL 539.472727 33.83453 \nL 544.596694 32.500359 \nL 549.720661 31.173747 \nL 554.844628 29.854568 \nL 559.968595 28.542697 \nL 565.092562 27.238014 \nL 570.216529 25.940404 \nL 575.340496 24.649751 \nL 580.464463 23.365945 \nL 585.58843 22.088878 \nL 590.712397 20.818446 \nL 595.836364 19.554545 \n\" style=\"fill:none;stroke:#ff0000;stroke-dasharray:9.6,2.4,1.5,2.4;stroke-dashoffset:0;stroke-width:1.5;\"/>\n   </g>\n   <g id=\"patch_3\">\n    <path d=\"M 63.2 279 \nL 63.2 7.2 \n\" style=\"fill:none;stroke:#000000;stroke-linecap:square;stroke-linejoin:miter;stroke-width:0.8;\"/>\n   </g>\n   <g id=\"patch_4\">\n    <path d=\"M 621.2 279 \nL 621.2 7.2 \n\" style=\"fill:none;stroke:#000000;stroke-linecap:square;stroke-linejoin:miter;stroke-width:0.8;\"/>\n   </g>\n   <g id=\"patch_5\">\n    <path d=\"M 63.2 279 \nL 621.2 279 \n\" style=\"fill:none;stroke:#000000;stroke-linecap:square;stroke-linejoin:miter;stroke-width:0.8;\"/>\n   </g>\n   <g id=\"patch_6\">\n    <path d=\"M 63.2 7.2 \nL 621.2 7.2 \n\" style=\"fill:none;stroke:#000000;stroke-linecap:square;stroke-linejoin:miter;stroke-width:0.8;\"/>\n   </g>\n  </g>\n </g>\n <defs>\n  <clipPath id=\"p2e2859b852\">\n   <rect height=\"271.8\" width=\"558\" x=\"63.2\" y=\"7.2\"/>\n  </clipPath>\n </defs>\n</svg>\n",
      "image/png": "[encoded data removed]"
     },
     "metadata": {
      "needs_background": "light"
     }
    }
   ],
   "source": [
    "Q = 0.99\n",
    "c = 1.72\n",
    "plt.rcParams[\"figure.figsize\"] = (10,5)\n",
    "\n",
    "#Tsang Model\n",
    "chi2Tsang = 1 + c*Re**(-0.5)*(xx/2)**(0.5)\n",
    "chi2Tsang[chi2Tsang>1.3] = np.nan\n",
    "\n",
    "#plotting shape-factor\n",
    "N_points_plot = 100\n",
    "plt.plot(xx[0:N_points_plot],W[2,0:N_points_plot],color = 'k')\n",
    "plt.plot(xx[0:N_points_plot],chi2Tsang[0:N_points_plot],'-.', color = 'r')\n",
    "#plt.plot(xx,W[0,:]*0+1.2,':', color = 'b')\n",
    "plt.xlabel('$x/H$')\n",
    "plt.ylabel('$\\\\chi_2$')"
   ]
  },
  {
   "cell_type": "code",
   "execution_count": null,
   "metadata": {},
   "outputs": [],
   "source": []
  }
 ]
}